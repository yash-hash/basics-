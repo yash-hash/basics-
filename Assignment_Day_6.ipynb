{
  "nbformat": 4,
  "nbformat_minor": 0,
  "metadata": {
    "colab": {
      "name": "Assignment Day 6.ipynb",
      "provenance": [],
      "collapsed_sections": [],
      "authorship_tag": "ABX9TyOvYiQnddLpKh9ZnW6ZkDQK",
      "include_colab_link": true
    },
    "kernelspec": {
      "name": "python3",
      "display_name": "Python 3"
    }
  },
  "cells": [
    {
      "cell_type": "markdown",
      "metadata": {
        "id": "view-in-github",
        "colab_type": "text"
      },
      "source": [
        "<a href=\"https://colab.research.google.com/github/yash-hash/basics-/blob/master/Assignment_Day_6.ipynb\" target=\"_parent\"><img src=\"https://colab.research.google.com/assets/colab-badge.svg\" alt=\"Open In Colab\"/></a>"
      ]
    },
    {
      "cell_type": "code",
      "metadata": {
        "id": "6CRr94NyPUn3",
        "colab_type": "code",
        "colab": {}
      },
      "source": [
        "import pandas as pd"
      ],
      "execution_count": 0,
      "outputs": []
    },
    {
      "cell_type": "code",
      "metadata": {
        "id": "gf2Qqrp6Pb4_",
        "colab_type": "code",
        "outputId": "4e7f4313-3acd-457d-9b2b-f1c10a702aa2",
        "colab": {
          "base_uri": "https://localhost:8080/",
          "height": 402
        }
      },
      "source": [
        "df = pd.read_csv('htwt.csv')\n",
        "df"
      ],
      "execution_count": 0,
      "outputs": [
        {
          "output_type": "execute_result",
          "data": {
            "text/html": [
              "<div>\n",
              "<style scoped>\n",
              "    .dataframe tbody tr th:only-of-type {\n",
              "        vertical-align: middle;\n",
              "    }\n",
              "\n",
              "    .dataframe tbody tr th {\n",
              "        vertical-align: top;\n",
              "    }\n",
              "\n",
              "    .dataframe thead th {\n",
              "        text-align: right;\n",
              "    }\n",
              "</style>\n",
              "<table border=\"1\" class=\"dataframe\">\n",
              "  <thead>\n",
              "    <tr style=\"text-align: right;\">\n",
              "      <th></th>\n",
              "      <th>Height</th>\n",
              "      <th>Weight</th>\n",
              "    </tr>\n",
              "  </thead>\n",
              "  <tbody>\n",
              "    <tr>\n",
              "      <th>0</th>\n",
              "      <td>185</td>\n",
              "      <td>72</td>\n",
              "    </tr>\n",
              "    <tr>\n",
              "      <th>1</th>\n",
              "      <td>170</td>\n",
              "      <td>56</td>\n",
              "    </tr>\n",
              "    <tr>\n",
              "      <th>2</th>\n",
              "      <td>168</td>\n",
              "      <td>60</td>\n",
              "    </tr>\n",
              "    <tr>\n",
              "      <th>3</th>\n",
              "      <td>179</td>\n",
              "      <td>68</td>\n",
              "    </tr>\n",
              "    <tr>\n",
              "      <th>4</th>\n",
              "      <td>182</td>\n",
              "      <td>72</td>\n",
              "    </tr>\n",
              "    <tr>\n",
              "      <th>5</th>\n",
              "      <td>188</td>\n",
              "      <td>77</td>\n",
              "    </tr>\n",
              "    <tr>\n",
              "      <th>6</th>\n",
              "      <td>180</td>\n",
              "      <td>71</td>\n",
              "    </tr>\n",
              "    <tr>\n",
              "      <th>7</th>\n",
              "      <td>180</td>\n",
              "      <td>70</td>\n",
              "    </tr>\n",
              "    <tr>\n",
              "      <th>8</th>\n",
              "      <td>183</td>\n",
              "      <td>84</td>\n",
              "    </tr>\n",
              "    <tr>\n",
              "      <th>9</th>\n",
              "      <td>180</td>\n",
              "      <td>88</td>\n",
              "    </tr>\n",
              "    <tr>\n",
              "      <th>10</th>\n",
              "      <td>180</td>\n",
              "      <td>67</td>\n",
              "    </tr>\n",
              "    <tr>\n",
              "      <th>11</th>\n",
              "      <td>177</td>\n",
              "      <td>76</td>\n",
              "    </tr>\n",
              "  </tbody>\n",
              "</table>\n",
              "</div>"
            ],
            "text/plain": [
              "    Height  Weight\n",
              "0      185      72\n",
              "1      170      56\n",
              "2      168      60\n",
              "3      179      68\n",
              "4      182      72\n",
              "5      188      77\n",
              "6      180      71\n",
              "7      180      70\n",
              "8      183      84\n",
              "9      180      88\n",
              "10     180      67\n",
              "11     177      76"
            ]
          },
          "metadata": {
            "tags": []
          },
          "execution_count": 3
        }
      ]
    },
    {
      "cell_type": "code",
      "metadata": {
        "id": "z8kzb8HNPlG-",
        "colab_type": "code",
        "outputId": "d7cebbb7-b517-4eb1-f126-7557e5888ae7",
        "colab": {
          "base_uri": "https://localhost:8080/",
          "height": 218
        }
      },
      "source": [
        "x = df.iloc[:,[0,1]].values\n",
        "print(x)"
      ],
      "execution_count": 0,
      "outputs": [
        {
          "output_type": "stream",
          "text": [
            "[[185  72]\n",
            " [170  56]\n",
            " [168  60]\n",
            " [179  68]\n",
            " [182  72]\n",
            " [188  77]\n",
            " [180  71]\n",
            " [180  70]\n",
            " [183  84]\n",
            " [180  88]\n",
            " [180  67]\n",
            " [177  76]]\n"
          ],
          "name": "stdout"
        }
      ]
    },
    {
      "cell_type": "code",
      "metadata": {
        "id": "CAL7yCl3TBjj",
        "colab_type": "code",
        "colab": {}
      },
      "source": [
        "from sklearn.cluster import KMeans\n",
        "import matplotlib.pyplot as plt\n"
      ],
      "execution_count": 0,
      "outputs": []
    },
    {
      "cell_type": "code",
      "metadata": {
        "id": "9DSNmHRxTrL2",
        "colab_type": "code",
        "outputId": "7124f46a-3bee-4b44-c132-7526a1be301e",
        "colab": {
          "base_uri": "https://localhost:8080/",
          "height": 34
        }
      },
      "source": [
        "sse = []\n",
        "model = KMeans(n_clusters = 1)\n",
        "model.fit(x)\n",
        "sse.append(model.inertia_)\n",
        "print(sse)"
      ],
      "execution_count": 0,
      "outputs": [
        {
          "output_type": "stream",
          "text": [
            "[1236.9166666666665]\n"
          ],
          "name": "stdout"
        }
      ]
    },
    {
      "cell_type": "code",
      "metadata": {
        "id": "d_IgeIzvUb-9",
        "colab_type": "code",
        "outputId": "c8895522-4c70-46c9-909d-21b54cef16a5",
        "colab": {
          "base_uri": "https://localhost:8080/",
          "height": 50
        }
      },
      "source": [
        "height = df.iloc[:,0].values\n",
        "weight = df.iloc[:,1].values\n",
        "print(height)\n",
        "print(weight)"
      ],
      "execution_count": 0,
      "outputs": [
        {
          "output_type": "stream",
          "text": [
            "[185 170 168 179 182 188 180 180 183 180 180 177]\n",
            "[72 56 60 68 72 77 71 70 84 88 67 76]\n"
          ],
          "name": "stdout"
        }
      ]
    },
    {
      "cell_type": "code",
      "metadata": {
        "id": "CQ0SA8O5WT2C",
        "colab_type": "code",
        "colab": {}
      },
      "source": [
        "import numpy as np"
      ],
      "execution_count": 0,
      "outputs": []
    },
    {
      "cell_type": "code",
      "metadata": {
        "id": "uf8ZfpvtXD9d",
        "colab_type": "code",
        "outputId": "aae5ff23-a655-4e08-c5a8-8b8e6709c981",
        "colab": {
          "base_uri": "https://localhost:8080/",
          "height": 50
        }
      },
      "source": [
        "height_mean = np.mean(height)\n",
        "weight_mean = np.mean(weight)\n",
        "print(height_mean)\n",
        "print(weight_mean)"
      ],
      "execution_count": 0,
      "outputs": [
        {
          "output_type": "stream",
          "text": [
            "179.33333333333334\n",
            "71.75\n"
          ],
          "name": "stdout"
        }
      ]
    },
    {
      "cell_type": "code",
      "metadata": {
        "id": "FinsTCgpXKH9",
        "colab_type": "code",
        "outputId": "cda5e5e0-8d73-43cd-efca-b7a426ce4a35",
        "colab": {
          "base_uri": "https://localhost:8080/",
          "height": 84
        }
      },
      "source": [
        "dif_height = []\n",
        "for i in range(1,13):\n",
        "  dif_height = height - height_mean\n",
        "print(dif_height)\n",
        "ssmh1 = np.power(dif_height,2)\n",
        "ssmh1 = np.sum(ssmh1)\n",
        "print(ssmh1)"
      ],
      "execution_count": 0,
      "outputs": [
        {
          "output_type": "stream",
          "text": [
            "[  5.66666667  -9.33333333 -11.33333333  -0.33333333   2.66666667\n",
            "   8.66666667   0.66666667   0.66666667   3.66666667   0.66666667\n",
            "   0.66666667  -2.33333333]\n",
            "350.66666666666674\n"
          ],
          "name": "stdout"
        }
      ]
    },
    {
      "cell_type": "code",
      "metadata": {
        "id": "N3cG5E3gYan8",
        "colab_type": "code",
        "outputId": "007a350e-8e16-4c68-d80c-5541b982cdf8",
        "colab": {
          "base_uri": "https://localhost:8080/",
          "height": 67
        }
      },
      "source": [
        "dif_weight = []\n",
        "for i in range(1,13):\n",
        "  dif_weight = weight - weight_mean\n",
        "print(dif_weight)\n",
        "ssmh2 = np.power(dif_weight,2)\n",
        "ssmh2 = np.sum(ssmh2)\n",
        "print(ssmh2)"
      ],
      "execution_count": 0,
      "outputs": [
        {
          "output_type": "stream",
          "text": [
            "[  0.25 -15.75 -11.75  -3.75   0.25   5.25  -0.75  -1.75  12.25  16.25\n",
            "  -4.75   4.25]\n",
            "886.25\n"
          ],
          "name": "stdout"
        }
      ]
    },
    {
      "cell_type": "code",
      "metadata": {
        "id": "33CsMIx2Y3Hm",
        "colab_type": "code",
        "outputId": "bb425bce-26dc-4c20-d13a-15e847fb759a",
        "colab": {
          "base_uri": "https://localhost:8080/",
          "height": 34
        }
      },
      "source": [
        "ssmh = ssmh1+ssmh2\n",
        "print(ssmh)"
      ],
      "execution_count": 0,
      "outputs": [
        {
          "output_type": "stream",
          "text": [
            "1236.9166666666667\n"
          ],
          "name": "stdout"
        }
      ]
    },
    {
      "cell_type": "code",
      "metadata": {
        "id": "OEBXnkf5cOl3",
        "colab_type": "code",
        "outputId": "5738f252-e25d-4b31-dd83-484a27969461",
        "colab": {
          "base_uri": "https://localhost:8080/",
          "height": 265
        }
      },
      "source": [
        "import matplotlib.pyplot as plt\n",
        "plt.plot(ssmh1,ss, c = 'r')\n",
        "plt.show()"
      ],
      "execution_count": 0,
      "outputs": [
        {
          "output_type": "display_data",
          "data": {
            "image/png": "[encoded data removed]",
            "text/plain": [
              "<Figure size 432x288 with 1 Axes>"
            ]
          },
          "metadata": {
            "tags": [],
            "needs_background": "light"
          }
        }
      ]
    },
    {
      "cell_type": "code",
      "metadata": {
        "id": "8h1gCClGcw6y",
        "colab_type": "code",
        "colab": {}
      },
      "source": [
        ""
      ],
      "execution_count": 0,
      "outputs": []
    }
  ]
}