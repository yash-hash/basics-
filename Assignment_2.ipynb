{
  "nbformat": 4,
  "nbformat_minor": 0,
  "metadata": {
    "colab": {
      "name": "Assignment 2.ipynb",
      "provenance": [],
      "collapsed_sections": [],
      "authorship_tag": "ABX9TyPAVbgZScSPQxGJxPmbQr66",
      "include_colab_link": true
    },
    "kernelspec": {
      "name": "python3",
      "display_name": "Python 3"
    }
  },
  "cells": [
    {
      "cell_type": "markdown",
      "metadata": {
        "id": "view-in-github",
        "colab_type": "text"
      },
      "source": [
        "<a href=\"https://colab.research.google.com/github/yash-hash/basics-/blob/master/Assignment_2.ipynb\" target=\"_parent\"><img src=\"https://colab.research.google.com/assets/colab-badge.svg\" alt=\"Open In Colab\"/></a>"
      ]
    },
    {
      "cell_type": "code",
      "metadata": {
        "id": "9QoCXdHsUheY",
        "colab_type": "code",
        "colab": {}
      },
      "source": [
        "import numpy as np\n"
      ],
      "execution_count": 0,
      "outputs": []
    },
    {
      "cell_type": "code",
      "metadata": {
        "id": "XBxXELZmVF80",
        "colab_type": "code",
        "outputId": "afd8a0a1-22b7-48a8-8d46-7ba722cae627",
        "colab": {
          "base_uri": "https://localhost:8080/",
          "height": 34
        }
      },
      "source": [
        "#assesment 1\n",
        "r=np.random.randint(50,100,10)\n",
        "r.sort() #by default sorts the array in ascending order\n",
        "reverse_order=np.sort(r)[::-1] #reverses the list  \n",
        "reverse_order #printing the reversed list i.e. ascending order"
      ],
      "execution_count": 0,
      "outputs": [
        {
          "output_type": "execute_result",
          "data": {
            "text/plain": [
              "array([96, 93, 87, 82, 77, 77, 67, 67, 60, 59])"
            ]
          },
          "metadata": {
            "tags": []
          },
          "execution_count": 5
        }
      ]
    },
    {
      "cell_type": "code",
      "metadata": {
        "id": "96B89IYsZ49W",
        "colab_type": "code",
        "outputId": "29750177-af44-46da-b097-a6eca70a50e7",
        "colab": {
          "base_uri": "https://localhost:8080/",
          "height": 34
        }
      },
      "source": [
        "#assesment 2\n",
        "newr=np.append(r,7)\n",
        "newr"
      ],
      "execution_count": 0,
      "outputs": [
        {
          "output_type": "execute_result",
          "data": {
            "text/plain": [
              "array([59, 60, 67, 67, 77, 77, 82, 87, 93, 96,  7])"
            ]
          },
          "metadata": {
            "tags": []
          },
          "execution_count": 7
        }
      ]
    },
    {
      "cell_type": "code",
      "metadata": {
        "id": "Xv6TgQVxeLzU",
        "colab_type": "code",
        "outputId": "ef112106-fb39-4807-c8c5-25fa19ebc825",
        "colab": {
          "base_uri": "https://localhost:8080/",
          "height": 67
        }
      },
      "source": [
        "#assesment 3\n",
        "sq = np.sqrt(r)\n",
        "print(sq)\n",
        "c = np.power(r,3)\n",
        "print(c)\n"
      ],
      "execution_count": 0,
      "outputs": [
        {
          "output_type": "stream",
          "text": [
            "[7.07106781 7.48331477 8.48528137 8.77496439 8.77496439 9.05538514\n",
            " 9.16515139 9.64365076 9.74679434 9.8488578 ]\n",
            "[125000 175616 373248 456533 456533 551368 592704 804357 857375 912673]\n"
          ],
          "name": "stdout"
        }
      ]
    },
    {
      "cell_type": "code",
      "metadata": {
        "id": "bI5fELQ5gWV0",
        "colab_type": "code",
        "outputId": "4d213c1d-5818-4c1e-8889-f3f1254190eb",
        "colab": {
          "base_uri": "https://localhost:8080/",
          "height": 101
        }
      },
      "source": [
        "#Asessment 4\n",
        "Med = np.median(r)\n",
        "print(\"Median is \",Med)\n",
        "mean = np.mean(r)\n",
        "print(\"Mean is \",mean)\n",
        "print(\"max value\",max(r))\n",
        "print(\"min value\",min(r))\n",
        "print(\"Total sum\",sum(r))"
      ],
      "execution_count": 0,
      "outputs": [
        {
          "output_type": "stream",
          "text": [
            "Median is  79.5\n",
            "Mean is  78.3\n",
            "max value 97\n",
            "min value 50\n",
            "Total sum 783\n"
          ],
          "name": "stdout"
        }
      ]
    },
    {
      "cell_type": "code",
      "metadata": {
        "id": "KD3kPQwkiB60",
        "colab_type": "code",
        "outputId": "18350d15-7a7d-4fa2-b5ba-5da12821a299",
        "colab": {
          "base_uri": "https://localhost:8080/",
          "height": 67
        }
      },
      "source": [
        "#Assesment 5\n",
        "# nnormalizing an array\n",
        "xmax=np.max(r)\n",
        "xmin=np.min(r)\n",
        "den=xmax-xmin\n",
        "xnorm=(r-xmin)/den\n",
        "print(xnorm)\n",
        "print(r)"
      ],
      "execution_count": 0,
      "outputs": [
        {
          "output_type": "stream",
          "text": [
            "[0.         0.12765957 0.46808511 0.57446809 0.57446809 0.68085106\n",
            " 0.72340426 0.91489362 0.95744681 1.        ]\n",
            "[50 56 72 77 77 82 84 93 95 97]\n"
          ],
          "name": "stdout"
        }
      ]
    },
    {
      "cell_type": "code",
      "metadata": {
        "id": "XFMcsPpttEsb",
        "colab_type": "code",
        "colab": {}
      },
      "source": [
        ""
      ],
      "execution_count": 0,
      "outputs": []
    }
  ]
}